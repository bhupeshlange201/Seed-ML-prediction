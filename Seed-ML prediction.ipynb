{
 "cells": [
  {
   "cell_type": "code",
   "execution_count": 1,
   "metadata": {},
   "outputs": [],
   "source": [
    "import numpy as np\n",
    "import pandas as pd\n",
    "import matplotlib.pyplot as plt\n",
    "import seaborn as sns\n",
    "%matplotlib inline\n",
    "sns.set()\n",
    "\n",
    "from sklearn.preprocessing import MinMaxScaler\n",
    "from sklearn.model_selection import train_test_split\n",
    "from sklearn.model_selection import KFold\n",
    "from sklearn.model_selection import cross_val_score\n",
    "from sklearn.linear_model import LogisticRegression\n",
    "from sklearn.tree import DecisionTreeClassifier\n",
    "from sklearn.neighbors import KNeighborsClassifier\n",
    "from sklearn.naive_bayes import GaussianNB\n",
    "from sklearn.ensemble import RandomForestClassifier\n",
    "from sklearn.svm import SVC\n",
    "\n",
    "from sklearn.metrics import confusion_matrix\n",
    "from sklearn.metrics import classification_report\n",
    "from sklearn.metrics import accuracy_score\n"
   ]
  },
  {
   "cell_type": "code",
   "execution_count": 2,
   "metadata": {},
   "outputs": [],
   "source": [
    "df=pd.read_csv('seeds_dataset.csv')"
   ]
  },
  {
   "cell_type": "code",
   "execution_count": 3,
   "metadata": {},
   "outputs": [
    {
     "data": {
      "text/html": [
       "<div>\n",
       "<style scoped>\n",
       "    .dataframe tbody tr th:only-of-type {\n",
       "        vertical-align: middle;\n",
       "    }\n",
       "\n",
       "    .dataframe tbody tr th {\n",
       "        vertical-align: top;\n",
       "    }\n",
       "\n",
       "    .dataframe thead th {\n",
       "        text-align: right;\n",
       "    }\n",
       "</style>\n",
       "<table border=\"1\" class=\"dataframe\">\n",
       "  <thead>\n",
       "    <tr style=\"text-align: right;\">\n",
       "      <th></th>\n",
       "      <th>ID</th>\n",
       "      <th>area</th>\n",
       "      <th>perimeter</th>\n",
       "      <th>compactness</th>\n",
       "      <th>lengthOfKernel</th>\n",
       "      <th>widthOfKernel</th>\n",
       "      <th>asymmetryCoefficient</th>\n",
       "      <th>lengthOfKernelGroove</th>\n",
       "      <th>seedType</th>\n",
       "    </tr>\n",
       "  </thead>\n",
       "  <tbody>\n",
       "    <tr>\n",
       "      <th>0</th>\n",
       "      <td>1</td>\n",
       "      <td>15.26</td>\n",
       "      <td>14.84</td>\n",
       "      <td>0.8710</td>\n",
       "      <td>5.763</td>\n",
       "      <td>3.312</td>\n",
       "      <td>2.221</td>\n",
       "      <td>5.220</td>\n",
       "      <td>1</td>\n",
       "    </tr>\n",
       "    <tr>\n",
       "      <th>1</th>\n",
       "      <td>2</td>\n",
       "      <td>14.88</td>\n",
       "      <td>14.57</td>\n",
       "      <td>0.8811</td>\n",
       "      <td>5.554</td>\n",
       "      <td>3.333</td>\n",
       "      <td>1.018</td>\n",
       "      <td>4.956</td>\n",
       "      <td>1</td>\n",
       "    </tr>\n",
       "    <tr>\n",
       "      <th>2</th>\n",
       "      <td>3</td>\n",
       "      <td>14.29</td>\n",
       "      <td>14.09</td>\n",
       "      <td>0.9050</td>\n",
       "      <td>5.291</td>\n",
       "      <td>3.337</td>\n",
       "      <td>2.699</td>\n",
       "      <td>4.825</td>\n",
       "      <td>1</td>\n",
       "    </tr>\n",
       "    <tr>\n",
       "      <th>3</th>\n",
       "      <td>4</td>\n",
       "      <td>13.84</td>\n",
       "      <td>13.94</td>\n",
       "      <td>0.8955</td>\n",
       "      <td>5.324</td>\n",
       "      <td>3.379</td>\n",
       "      <td>2.259</td>\n",
       "      <td>4.805</td>\n",
       "      <td>1</td>\n",
       "    </tr>\n",
       "    <tr>\n",
       "      <th>4</th>\n",
       "      <td>5</td>\n",
       "      <td>16.14</td>\n",
       "      <td>14.99</td>\n",
       "      <td>0.9034</td>\n",
       "      <td>5.658</td>\n",
       "      <td>3.562</td>\n",
       "      <td>1.355</td>\n",
       "      <td>5.175</td>\n",
       "      <td>1</td>\n",
       "    </tr>\n",
       "  </tbody>\n",
       "</table>\n",
       "</div>"
      ],
      "text/plain": [
       "   ID   area  perimeter  compactness  lengthOfKernel  widthOfKernel  \\\n",
       "0   1  15.26      14.84       0.8710           5.763          3.312   \n",
       "1   2  14.88      14.57       0.8811           5.554          3.333   \n",
       "2   3  14.29      14.09       0.9050           5.291          3.337   \n",
       "3   4  13.84      13.94       0.8955           5.324          3.379   \n",
       "4   5  16.14      14.99       0.9034           5.658          3.562   \n",
       "\n",
       "   asymmetryCoefficient  lengthOfKernelGroove  seedType  \n",
       "0                 2.221                 5.220         1  \n",
       "1                 1.018                 4.956         1  \n",
       "2                 2.699                 4.825         1  \n",
       "3                 2.259                 4.805         1  \n",
       "4                 1.355                 5.175         1  "
      ]
     },
     "execution_count": 3,
     "metadata": {},
     "output_type": "execute_result"
    }
   ],
   "source": [
    "df.head()"
   ]
  },
  {
   "cell_type": "code",
   "execution_count": 4,
   "metadata": {},
   "outputs": [
    {
     "data": {
      "text/plain": [
       "3    70\n",
       "2    70\n",
       "1    70\n",
       "Name: seedType, dtype: int64"
      ]
     },
     "execution_count": 4,
     "metadata": {},
     "output_type": "execute_result"
    }
   ],
   "source": [
    "df['seedType'].value_counts()"
   ]
  },
  {
   "cell_type": "code",
   "execution_count": 5,
   "metadata": {},
   "outputs": [
    {
     "data": {
      "text/plain": [
       "(210, 9)"
      ]
     },
     "execution_count": 5,
     "metadata": {},
     "output_type": "execute_result"
    }
   ],
   "source": [
    "df.shape"
   ]
  },
  {
   "cell_type": "code",
   "execution_count": 6,
   "metadata": {},
   "outputs": [
    {
     "data": {
      "text/plain": [
       "ID                      0\n",
       "area                    0\n",
       "perimeter               0\n",
       "compactness             0\n",
       "lengthOfKernel          0\n",
       "widthOfKernel           0\n",
       "asymmetryCoefficient    0\n",
       "lengthOfKernelGroove    0\n",
       "seedType                0\n",
       "dtype: int64"
      ]
     },
     "execution_count": 6,
     "metadata": {},
     "output_type": "execute_result"
    }
   ],
   "source": [
    "df.isnull().sum()"
   ]
  },
  {
   "cell_type": "code",
   "execution_count": 7,
   "metadata": {},
   "outputs": [
    {
     "data": {
      "image/png": "[encoded data removed]",
      "text/plain": [
       "<Figure size 360x360 with 1 Axes>"
      ]
     },
     "metadata": {},
     "output_type": "display_data"
    }
   ],
   "source": [
    "sns.catplot(y=\"area\", x=\"seedType\", data=df);"
   ]
  },
  {
   "cell_type": "code",
   "execution_count": 8,
   "metadata": {},
   "outputs": [
    {
     "name": "stderr",
     "output_type": "stream",
     "text": [
      "c:\\users\\bhupesh\\appdata\\local\\programs\\python\\python38-32\\lib\\site-packages\\seaborn\\distributions.py:2551: FutureWarning: `distplot` is a deprecated function and will be removed in a future version. Please adapt your code to use either `displot` (a figure-level function with similar flexibility) or `histplot` (an axes-level function for histograms).\n",
      "  warnings.warn(msg, FutureWarning)\n"
     ]
    },
    {
     "data": {
      "image/png": "[encoded data removed]",
      "text/plain": [
       "<Figure size 432x288 with 1 Axes>"
      ]
     },
     "metadata": {},
     "output_type": "display_data"
    }
   ],
   "source": [
    "sns.distplot(df['compactness'],kde=True);"
   ]
  },
  {
   "cell_type": "code",
   "execution_count": 9,
   "metadata": {},
   "outputs": [
    {
     "data": {
      "text/html": [
       "<div>\n",
       "<style scoped>\n",
       "    .dataframe tbody tr th:only-of-type {\n",
       "        vertical-align: middle;\n",
       "    }\n",
       "\n",
       "    .dataframe tbody tr th {\n",
       "        vertical-align: top;\n",
       "    }\n",
       "\n",
       "    .dataframe thead th {\n",
       "        text-align: right;\n",
       "    }\n",
       "</style>\n",
       "<table border=\"1\" class=\"dataframe\">\n",
       "  <thead>\n",
       "    <tr style=\"text-align: right;\">\n",
       "      <th></th>\n",
       "      <th>ID</th>\n",
       "      <th>area</th>\n",
       "      <th>perimeter</th>\n",
       "      <th>compactness</th>\n",
       "      <th>lengthOfKernel</th>\n",
       "      <th>widthOfKernel</th>\n",
       "      <th>asymmetryCoefficient</th>\n",
       "      <th>lengthOfKernelGroove</th>\n",
       "      <th>seedType</th>\n",
       "    </tr>\n",
       "  </thead>\n",
       "  <tbody>\n",
       "    <tr>\n",
       "      <th>count</th>\n",
       "      <td>210.000000</td>\n",
       "      <td>210.000000</td>\n",
       "      <td>210.000000</td>\n",
       "      <td>210.000000</td>\n",
       "      <td>210.000000</td>\n",
       "      <td>210.000000</td>\n",
       "      <td>210.000000</td>\n",
       "      <td>210.000000</td>\n",
       "      <td>210.000000</td>\n",
       "    </tr>\n",
       "    <tr>\n",
       "      <th>mean</th>\n",
       "      <td>105.500000</td>\n",
       "      <td>14.847524</td>\n",
       "      <td>14.559286</td>\n",
       "      <td>0.870999</td>\n",
       "      <td>5.628533</td>\n",
       "      <td>3.258605</td>\n",
       "      <td>3.700201</td>\n",
       "      <td>5.408071</td>\n",
       "      <td>2.000000</td>\n",
       "    </tr>\n",
       "    <tr>\n",
       "      <th>std</th>\n",
       "      <td>60.765944</td>\n",
       "      <td>2.909699</td>\n",
       "      <td>1.305959</td>\n",
       "      <td>0.023629</td>\n",
       "      <td>0.443063</td>\n",
       "      <td>0.377714</td>\n",
       "      <td>1.503557</td>\n",
       "      <td>0.491480</td>\n",
       "      <td>0.818448</td>\n",
       "    </tr>\n",
       "    <tr>\n",
       "      <th>min</th>\n",
       "      <td>1.000000</td>\n",
       "      <td>10.590000</td>\n",
       "      <td>12.410000</td>\n",
       "      <td>0.808100</td>\n",
       "      <td>4.899000</td>\n",
       "      <td>2.630000</td>\n",
       "      <td>0.765100</td>\n",
       "      <td>4.519000</td>\n",
       "      <td>1.000000</td>\n",
       "    </tr>\n",
       "    <tr>\n",
       "      <th>25%</th>\n",
       "      <td>53.250000</td>\n",
       "      <td>12.270000</td>\n",
       "      <td>13.450000</td>\n",
       "      <td>0.856900</td>\n",
       "      <td>5.262250</td>\n",
       "      <td>2.944000</td>\n",
       "      <td>2.561500</td>\n",
       "      <td>5.045000</td>\n",
       "      <td>1.000000</td>\n",
       "    </tr>\n",
       "    <tr>\n",
       "      <th>50%</th>\n",
       "      <td>105.500000</td>\n",
       "      <td>14.355000</td>\n",
       "      <td>14.320000</td>\n",
       "      <td>0.873450</td>\n",
       "      <td>5.523500</td>\n",
       "      <td>3.237000</td>\n",
       "      <td>3.599000</td>\n",
       "      <td>5.223000</td>\n",
       "      <td>2.000000</td>\n",
       "    </tr>\n",
       "    <tr>\n",
       "      <th>75%</th>\n",
       "      <td>157.750000</td>\n",
       "      <td>17.305000</td>\n",
       "      <td>15.715000</td>\n",
       "      <td>0.887775</td>\n",
       "      <td>5.979750</td>\n",
       "      <td>3.561750</td>\n",
       "      <td>4.768750</td>\n",
       "      <td>5.877000</td>\n",
       "      <td>3.000000</td>\n",
       "    </tr>\n",
       "    <tr>\n",
       "      <th>max</th>\n",
       "      <td>210.000000</td>\n",
       "      <td>21.180000</td>\n",
       "      <td>17.250000</td>\n",
       "      <td>0.918300</td>\n",
       "      <td>6.675000</td>\n",
       "      <td>4.033000</td>\n",
       "      <td>8.456000</td>\n",
       "      <td>6.550000</td>\n",
       "      <td>3.000000</td>\n",
       "    </tr>\n",
       "  </tbody>\n",
       "</table>\n",
       "</div>"
      ],
      "text/plain": [
       "               ID        area   perimeter  compactness  lengthOfKernel  \\\n",
       "count  210.000000  210.000000  210.000000   210.000000      210.000000   \n",
       "mean   105.500000   14.847524   14.559286     0.870999        5.628533   \n",
       "std     60.765944    2.909699    1.305959     0.023629        0.443063   \n",
       "min      1.000000   10.590000   12.410000     0.808100        4.899000   \n",
       "25%     53.250000   12.270000   13.450000     0.856900        5.262250   \n",
       "50%    105.500000   14.355000   14.320000     0.873450        5.523500   \n",
       "75%    157.750000   17.305000   15.715000     0.887775        5.979750   \n",
       "max    210.000000   21.180000   17.250000     0.918300        6.675000   \n",
       "\n",
       "       widthOfKernel  asymmetryCoefficient  lengthOfKernelGroove    seedType  \n",
       "count     210.000000            210.000000            210.000000  210.000000  \n",
       "mean        3.258605              3.700201              5.408071    2.000000  \n",
       "std         0.377714              1.503557              0.491480    0.818448  \n",
       "min         2.630000              0.765100              4.519000    1.000000  \n",
       "25%         2.944000              2.561500              5.045000    1.000000  \n",
       "50%         3.237000              3.599000              5.223000    2.000000  \n",
       "75%         3.561750              4.768750              5.877000    3.000000  \n",
       "max         4.033000              8.456000              6.550000    3.000000  "
      ]
     },
     "execution_count": 9,
     "metadata": {},
     "output_type": "execute_result"
    }
   ],
   "source": [
    "df.describe()"
   ]
  },
  {
   "cell_type": "code",
   "execution_count": 10,
   "metadata": {},
   "outputs": [
    {
     "data": {
      "text/html": [
       "<div>\n",
       "<style scoped>\n",
       "    .dataframe tbody tr th:only-of-type {\n",
       "        vertical-align: middle;\n",
       "    }\n",
       "\n",
       "    .dataframe tbody tr th {\n",
       "        vertical-align: top;\n",
       "    }\n",
       "\n",
       "    .dataframe thead th {\n",
       "        text-align: right;\n",
       "    }\n",
       "</style>\n",
       "<table border=\"1\" class=\"dataframe\">\n",
       "  <thead>\n",
       "    <tr style=\"text-align: right;\">\n",
       "      <th></th>\n",
       "      <th>ID</th>\n",
       "      <th>area</th>\n",
       "      <th>perimeter</th>\n",
       "      <th>compactness</th>\n",
       "      <th>lengthOfKernel</th>\n",
       "      <th>widthOfKernel</th>\n",
       "      <th>asymmetryCoefficient</th>\n",
       "      <th>lengthOfKernelGroove</th>\n",
       "      <th>seedType</th>\n",
       "    </tr>\n",
       "  </thead>\n",
       "  <tbody>\n",
       "    <tr>\n",
       "      <th>ID</th>\n",
       "      <td>1.000000</td>\n",
       "      <td>-0.353409</td>\n",
       "      <td>-0.343198</td>\n",
       "      <td>-0.464282</td>\n",
       "      <td>-0.287088</td>\n",
       "      <td>-0.412692</td>\n",
       "      <td>0.529982</td>\n",
       "      <td>-0.017875</td>\n",
       "      <td>0.942820</td>\n",
       "    </tr>\n",
       "    <tr>\n",
       "      <th>area</th>\n",
       "      <td>-0.353409</td>\n",
       "      <td>1.000000</td>\n",
       "      <td>0.994341</td>\n",
       "      <td>0.608288</td>\n",
       "      <td>0.949985</td>\n",
       "      <td>0.970771</td>\n",
       "      <td>-0.229572</td>\n",
       "      <td>0.863693</td>\n",
       "      <td>-0.346058</td>\n",
       "    </tr>\n",
       "    <tr>\n",
       "      <th>perimeter</th>\n",
       "      <td>-0.343198</td>\n",
       "      <td>0.994341</td>\n",
       "      <td>1.000000</td>\n",
       "      <td>0.529244</td>\n",
       "      <td>0.972422</td>\n",
       "      <td>0.944829</td>\n",
       "      <td>-0.217340</td>\n",
       "      <td>0.890784</td>\n",
       "      <td>-0.327900</td>\n",
       "    </tr>\n",
       "    <tr>\n",
       "      <th>compactness</th>\n",
       "      <td>-0.464282</td>\n",
       "      <td>0.608288</td>\n",
       "      <td>0.529244</td>\n",
       "      <td>1.000000</td>\n",
       "      <td>0.367915</td>\n",
       "      <td>0.761635</td>\n",
       "      <td>-0.331471</td>\n",
       "      <td>0.226825</td>\n",
       "      <td>-0.531007</td>\n",
       "    </tr>\n",
       "    <tr>\n",
       "      <th>lengthOfKernel</th>\n",
       "      <td>-0.287088</td>\n",
       "      <td>0.949985</td>\n",
       "      <td>0.972422</td>\n",
       "      <td>0.367915</td>\n",
       "      <td>1.000000</td>\n",
       "      <td>0.860415</td>\n",
       "      <td>-0.171562</td>\n",
       "      <td>0.932806</td>\n",
       "      <td>-0.257269</td>\n",
       "    </tr>\n",
       "    <tr>\n",
       "      <th>widthOfKernel</th>\n",
       "      <td>-0.412692</td>\n",
       "      <td>0.970771</td>\n",
       "      <td>0.944829</td>\n",
       "      <td>0.761635</td>\n",
       "      <td>0.860415</td>\n",
       "      <td>1.000000</td>\n",
       "      <td>-0.258037</td>\n",
       "      <td>0.749131</td>\n",
       "      <td>-0.423463</td>\n",
       "    </tr>\n",
       "    <tr>\n",
       "      <th>asymmetryCoefficient</th>\n",
       "      <td>0.529982</td>\n",
       "      <td>-0.229572</td>\n",
       "      <td>-0.217340</td>\n",
       "      <td>-0.331471</td>\n",
       "      <td>-0.171562</td>\n",
       "      <td>-0.258037</td>\n",
       "      <td>1.000000</td>\n",
       "      <td>-0.011079</td>\n",
       "      <td>0.577273</td>\n",
       "    </tr>\n",
       "    <tr>\n",
       "      <th>lengthOfKernelGroove</th>\n",
       "      <td>-0.017875</td>\n",
       "      <td>0.863693</td>\n",
       "      <td>0.890784</td>\n",
       "      <td>0.226825</td>\n",
       "      <td>0.932806</td>\n",
       "      <td>0.749131</td>\n",
       "      <td>-0.011079</td>\n",
       "      <td>1.000000</td>\n",
       "      <td>0.024301</td>\n",
       "    </tr>\n",
       "    <tr>\n",
       "      <th>seedType</th>\n",
       "      <td>0.942820</td>\n",
       "      <td>-0.346058</td>\n",
       "      <td>-0.327900</td>\n",
       "      <td>-0.531007</td>\n",
       "      <td>-0.257269</td>\n",
       "      <td>-0.423463</td>\n",
       "      <td>0.577273</td>\n",
       "      <td>0.024301</td>\n",
       "      <td>1.000000</td>\n",
       "    </tr>\n",
       "  </tbody>\n",
       "</table>\n",
       "</div>"
      ],
      "text/plain": [
       "                            ID      area  perimeter  compactness  \\\n",
       "ID                    1.000000 -0.353409  -0.343198    -0.464282   \n",
       "area                 -0.353409  1.000000   0.994341     0.608288   \n",
       "perimeter            -0.343198  0.994341   1.000000     0.529244   \n",
       "compactness          -0.464282  0.608288   0.529244     1.000000   \n",
       "lengthOfKernel       -0.287088  0.949985   0.972422     0.367915   \n",
       "widthOfKernel        -0.412692  0.970771   0.944829     0.761635   \n",
       "asymmetryCoefficient  0.529982 -0.229572  -0.217340    -0.331471   \n",
       "lengthOfKernelGroove -0.017875  0.863693   0.890784     0.226825   \n",
       "seedType              0.942820 -0.346058  -0.327900    -0.531007   \n",
       "\n",
       "                      lengthOfKernel  widthOfKernel  asymmetryCoefficient  \\\n",
       "ID                         -0.287088      -0.412692              0.529982   \n",
       "area                        0.949985       0.970771             -0.229572   \n",
       "perimeter                   0.972422       0.944829             -0.217340   \n",
       "compactness                 0.367915       0.761635             -0.331471   \n",
       "lengthOfKernel              1.000000       0.860415             -0.171562   \n",
       "widthOfKernel               0.860415       1.000000             -0.258037   \n",
       "asymmetryCoefficient       -0.171562      -0.258037              1.000000   \n",
       "lengthOfKernelGroove        0.932806       0.749131             -0.011079   \n",
       "seedType                   -0.257269      -0.423463              0.577273   \n",
       "\n",
       "                      lengthOfKernelGroove  seedType  \n",
       "ID                               -0.017875  0.942820  \n",
       "area                              0.863693 -0.346058  \n",
       "perimeter                         0.890784 -0.327900  \n",
       "compactness                       0.226825 -0.531007  \n",
       "lengthOfKernel                    0.932806 -0.257269  \n",
       "widthOfKernel                     0.749131 -0.423463  \n",
       "asymmetryCoefficient             -0.011079  0.577273  \n",
       "lengthOfKernelGroove              1.000000  0.024301  \n",
       "seedType                          0.024301  1.000000  "
      ]
     },
     "execution_count": 10,
     "metadata": {},
     "output_type": "execute_result"
    }
   ],
   "source": [
    "df.corr()"
   ]
  },
  {
   "cell_type": "code",
   "execution_count": 11,
   "metadata": {},
   "outputs": [
    {
     "data": {
      "image/png": "[encoded data removed]",
      "text/plain": [
       "<Figure size 1440x1080 with 2 Axes>"
      ]
     },
     "metadata": {},
     "output_type": "display_data"
    }
   ],
   "source": [
    "plt.figure(figsize=(20,15))\n",
    "sns.heatmap(df.corr(),annot=True);"
   ]
  },
  {
   "cell_type": "code",
   "execution_count": 12,
   "metadata": {},
   "outputs": [],
   "source": [
    "y=df['seedType']"
   ]
  },
  {
   "cell_type": "code",
   "execution_count": 13,
   "metadata": {},
   "outputs": [],
   "source": [
    "x=df.drop(['ID','seedType'],axis=1)"
   ]
  },
  {
   "cell_type": "code",
   "execution_count": 14,
   "metadata": {},
   "outputs": [],
   "source": [
    "x_train,x_test,y_train,y_test=train_test_split(x,y,test_size=0.3,random_state=25,stratify=y)"
   ]
  },
  {
   "cell_type": "code",
   "execution_count": 15,
   "metadata": {},
   "outputs": [],
   "source": [
    "scale=MinMaxScaler()"
   ]
  },
  {
   "cell_type": "code",
   "execution_count": 16,
   "metadata": {},
   "outputs": [],
   "source": [
    "x_train=scale.fit_transform(x_train)\n",
    "x_test=scale.transform(x_test)"
   ]
  },
  {
   "cell_type": "code",
   "execution_count": 17,
   "metadata": {},
   "outputs": [],
   "source": [
    "models={'Logistic Regression': LogisticRegression(),\n",
    "        'Decision tree':DecisionTreeClassifier(),\n",
    "        'KNN':KNeighborsClassifier(n_neighbors=2),\n",
    "        'Gaussian':GaussianNB(),\n",
    "        'svc':SVC(),\n",
    "       'Random_forest': RandomForestClassifier()}"
   ]
  },
  {
   "cell_type": "code",
   "execution_count": 18,
   "metadata": {},
   "outputs": [],
   "source": [
    "model_test_score={}\n",
    "model_train_score={}\n",
    "\n",
    "for name,model in models.items():\n",
    "    model.fit(x_train,y_train)\n",
    "    model_test_score[name]=model.score(x_test,y_test)\n",
    "    model_train_score[name]=model.score(x_train,y_train)"
   ]
  },
  {
   "cell_type": "code",
   "execution_count": 19,
   "metadata": {},
   "outputs": [
    {
     "data": {
      "text/plain": [
       "{'Logistic Regression': 0.9206349206349206,\n",
       " 'Decision tree': 0.9206349206349206,\n",
       " 'KNN': 0.9365079365079365,\n",
       " 'Gaussian': 0.9047619047619048,\n",
       " 'svc': 0.9365079365079365,\n",
       " 'Random_forest': 0.9206349206349206}"
      ]
     },
     "execution_count": 19,
     "metadata": {},
     "output_type": "execute_result"
    }
   ],
   "source": [
    " model_test_score"
   ]
  },
  {
   "cell_type": "code",
   "execution_count": 20,
   "metadata": {},
   "outputs": [
    {
     "data": {
      "text/plain": [
       "{'Logistic Regression': 0.9387755102040817,\n",
       " 'Decision tree': 1.0,\n",
       " 'KNN': 0.9659863945578231,\n",
       " 'Gaussian': 0.9047619047619048,\n",
       " 'svc': 0.9523809523809523,\n",
       " 'Random_forest': 1.0}"
      ]
     },
     "execution_count": 20,
     "metadata": {},
     "output_type": "execute_result"
    }
   ],
   "source": [
    "model_train_score"
   ]
  },
  {
   "cell_type": "code",
   "execution_count": 21,
   "metadata": {},
   "outputs": [
    {
     "data": {
      "text/html": [
       "<div>\n",
       "<style scoped>\n",
       "    .dataframe tbody tr th:only-of-type {\n",
       "        vertical-align: middle;\n",
       "    }\n",
       "\n",
       "    .dataframe tbody tr th {\n",
       "        vertical-align: top;\n",
       "    }\n",
       "\n",
       "    .dataframe thead th {\n",
       "        text-align: right;\n",
       "    }\n",
       "</style>\n",
       "<table border=\"1\" class=\"dataframe\">\n",
       "  <thead>\n",
       "    <tr style=\"text-align: right;\">\n",
       "      <th></th>\n",
       "      <th>Logistic Regression</th>\n",
       "      <th>Decision tree</th>\n",
       "      <th>KNN</th>\n",
       "      <th>Gaussian</th>\n",
       "      <th>svc</th>\n",
       "      <th>Random_forest</th>\n",
       "    </tr>\n",
       "  </thead>\n",
       "  <tbody>\n",
       "    <tr>\n",
       "      <th>Test_accuracy</th>\n",
       "      <td>0.920635</td>\n",
       "      <td>0.920635</td>\n",
       "      <td>0.936508</td>\n",
       "      <td>0.904762</td>\n",
       "      <td>0.936508</td>\n",
       "      <td>0.920635</td>\n",
       "    </tr>\n",
       "  </tbody>\n",
       "</table>\n",
       "</div>"
      ],
      "text/plain": [
       "               Logistic Regression  Decision tree       KNN  Gaussian  \\\n",
       "Test_accuracy             0.920635       0.920635  0.936508  0.904762   \n",
       "\n",
       "                    svc  Random_forest  \n",
       "Test_accuracy  0.936508       0.920635  "
      ]
     },
     "execution_count": 21,
     "metadata": {},
     "output_type": "execute_result"
    }
   ],
   "source": [
    "df1= pd.DataFrame(model_test_score,index=['Test_accuracy'])\n",
    "df1"
   ]
  },
  {
   "cell_type": "code",
   "execution_count": 22,
   "metadata": {},
   "outputs": [],
   "source": [
    "df1=df1.transpose()"
   ]
  },
  {
   "cell_type": "code",
   "execution_count": 23,
   "metadata": {},
   "outputs": [],
   "source": [
    "df1['Train_accuracy']=model_train_score.values()"
   ]
  },
  {
   "cell_type": "code",
   "execution_count": 24,
   "metadata": {},
   "outputs": [],
   "source": [
    "df1['Difference']= (df1['Train_accuracy']-df1['Test_accuracy'])*100"
   ]
  },
  {
   "cell_type": "code",
   "execution_count": 25,
   "metadata": {},
   "outputs": [
    {
     "data": {
      "text/html": [
       "<div>\n",
       "<style scoped>\n",
       "    .dataframe tbody tr th:only-of-type {\n",
       "        vertical-align: middle;\n",
       "    }\n",
       "\n",
       "    .dataframe tbody tr th {\n",
       "        vertical-align: top;\n",
       "    }\n",
       "\n",
       "    .dataframe thead th {\n",
       "        text-align: right;\n",
       "    }\n",
       "</style>\n",
       "<table border=\"1\" class=\"dataframe\">\n",
       "  <thead>\n",
       "    <tr style=\"text-align: right;\">\n",
       "      <th></th>\n",
       "      <th>Test_accuracy</th>\n",
       "      <th>Train_accuracy</th>\n",
       "      <th>Difference</th>\n",
       "    </tr>\n",
       "  </thead>\n",
       "  <tbody>\n",
       "    <tr>\n",
       "      <th>Logistic Regression</th>\n",
       "      <td>0.920635</td>\n",
       "      <td>0.938776</td>\n",
       "      <td>1.814059</td>\n",
       "    </tr>\n",
       "    <tr>\n",
       "      <th>Decision tree</th>\n",
       "      <td>0.920635</td>\n",
       "      <td>1.000000</td>\n",
       "      <td>7.936508</td>\n",
       "    </tr>\n",
       "    <tr>\n",
       "      <th>KNN</th>\n",
       "      <td>0.936508</td>\n",
       "      <td>0.965986</td>\n",
       "      <td>2.947846</td>\n",
       "    </tr>\n",
       "    <tr>\n",
       "      <th>Gaussian</th>\n",
       "      <td>0.904762</td>\n",
       "      <td>0.904762</td>\n",
       "      <td>0.000000</td>\n",
       "    </tr>\n",
       "    <tr>\n",
       "      <th>svc</th>\n",
       "      <td>0.936508</td>\n",
       "      <td>0.952381</td>\n",
       "      <td>1.587302</td>\n",
       "    </tr>\n",
       "    <tr>\n",
       "      <th>Random_forest</th>\n",
       "      <td>0.920635</td>\n",
       "      <td>1.000000</td>\n",
       "      <td>7.936508</td>\n",
       "    </tr>\n",
       "  </tbody>\n",
       "</table>\n",
       "</div>"
      ],
      "text/plain": [
       "                     Test_accuracy  Train_accuracy  Difference\n",
       "Logistic Regression       0.920635        0.938776    1.814059\n",
       "Decision tree             0.920635        1.000000    7.936508\n",
       "KNN                       0.936508        0.965986    2.947846\n",
       "Gaussian                  0.904762        0.904762    0.000000\n",
       "svc                       0.936508        0.952381    1.587302\n",
       "Random_forest             0.920635        1.000000    7.936508"
      ]
     },
     "execution_count": 25,
     "metadata": {},
     "output_type": "execute_result"
    }
   ],
   "source": [
    "df1"
   ]
  },
  {
   "cell_type": "code",
   "execution_count": 26,
   "metadata": {},
   "outputs": [
    {
     "data": {
      "image/png": "[encoded data removed]",
      "text/plain": [
       "<Figure size 432x288 with 1 Axes>"
      ]
     },
     "metadata": {},
     "output_type": "display_data"
    }
   ],
   "source": [
    "df1.plot.bar();"
   ]
  },
  {
   "cell_type": "code",
   "execution_count": 27,
   "metadata": {},
   "outputs": [],
   "source": [
    "# Here in the above results i found our SVC model give me the highest accuracy of 93% and it is the best fit model\n",
    "# so i go with logistic SVC model"
   ]
  },
  {
   "cell_type": "code",
   "execution_count": 28,
   "metadata": {},
   "outputs": [],
   "source": [
    "svm=SVC()"
   ]
  },
  {
   "cell_type": "code",
   "execution_count": 29,
   "metadata": {},
   "outputs": [
    {
     "data": {
      "text/plain": [
       "SVC()"
      ]
     },
     "execution_count": 29,
     "metadata": {},
     "output_type": "execute_result"
    }
   ],
   "source": [
    "svm.fit(x_train,y_train)"
   ]
  },
  {
   "cell_type": "code",
   "execution_count": 30,
   "metadata": {},
   "outputs": [
    {
     "data": {
      "text/plain": [
       "0.9365079365079365"
      ]
     },
     "execution_count": 30,
     "metadata": {},
     "output_type": "execute_result"
    }
   ],
   "source": [
    "svm.score(x_test,y_test)"
   ]
  },
  {
   "cell_type": "code",
   "execution_count": 31,
   "metadata": {},
   "outputs": [],
   "source": [
    "# using cross_validation for logistic regression\n",
    "cv_acc=cross_val_score(svm,x,y,cv=5)"
   ]
  },
  {
   "cell_type": "code",
   "execution_count": 32,
   "metadata": {},
   "outputs": [
    {
     "data": {
      "text/plain": [
       "array([0.97619048, 0.92857143, 0.92857143, 0.92857143, 0.66666667])"
      ]
     },
     "execution_count": 32,
     "metadata": {},
     "output_type": "execute_result"
    }
   ],
   "source": [
    "cv_acc"
   ]
  },
  {
   "cell_type": "code",
   "execution_count": 33,
   "metadata": {},
   "outputs": [
    {
     "data": {
      "text/plain": [
       "0.8857142857142858"
      ]
     },
     "execution_count": 33,
     "metadata": {},
     "output_type": "execute_result"
    }
   ],
   "source": [
    "np.mean(cv_acc)"
   ]
  },
  {
   "cell_type": "code",
   "execution_count": 34,
   "metadata": {},
   "outputs": [],
   "source": [
    "#making prediction\n",
    "y_pred=svm.predict(x_test)"
   ]
  },
  {
   "cell_type": "code",
   "execution_count": 35,
   "metadata": {},
   "outputs": [
    {
     "data": {
      "text/plain": [
       "0.9365079365079365"
      ]
     },
     "execution_count": 35,
     "metadata": {},
     "output_type": "execute_result"
    }
   ],
   "source": [
    "accuracy_score(y_test,y_pred)"
   ]
  },
  {
   "cell_type": "code",
   "execution_count": 36,
   "metadata": {},
   "outputs": [
    {
     "name": "stdout",
     "output_type": "stream",
     "text": [
      "[[17  1  3]\n",
      " [ 0 21  0]\n",
      " [ 0  0 21]]\n"
     ]
    }
   ],
   "source": [
    "cm=confusion_matrix(y_test,y_pred)\n",
    "print(cm)"
   ]
  },
  {
   "cell_type": "code",
   "execution_count": 37,
   "metadata": {},
   "outputs": [
    {
     "name": "stdout",
     "output_type": "stream",
     "text": [
      "              precision    recall  f1-score   support\n",
      "\n",
      "           1       1.00      0.81      0.89        21\n",
      "           2       0.95      1.00      0.98        21\n",
      "           3       0.88      1.00      0.93        21\n",
      "\n",
      "    accuracy                           0.94        63\n",
      "   macro avg       0.94      0.94      0.93        63\n",
      "weighted avg       0.94      0.94      0.93        63\n",
      "\n"
     ]
    }
   ],
   "source": [
    "cr=classification_report(y_test,y_pred)\n",
    "print(cr)"
   ]
  }
 ],
 "metadata": {
  "kernelspec": {
   "display_name": "Python 3",
   "language": "python",
   "name": "python3"
  },
  "language_info": {
   "codemirror_mode": {
    "name": "ipython",
    "version": 3
   },
   "file_extension": ".py",
   "mimetype": "text/x-python",
   "name": "python",
   "nbconvert_exporter": "python",
   "pygments_lexer": "ipython3",
   "version": "3.8.4"
  }
 },
 "nbformat": 4,
 "nbformat_minor": 4
}
